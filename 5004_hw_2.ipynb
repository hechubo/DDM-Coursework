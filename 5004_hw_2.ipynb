{
  "nbformat": 4,
  "nbformat_minor": 0,
  "metadata": {
    "colab": {
      "provenance": [],
      "authorship_tag": "ABX9TyMYPfH7zURtvX2R5KFqD0rK",
      "include_colab_link": true
    },
    "kernelspec": {
      "name": "python3",
      "display_name": "Python 3"
    },
    "language_info": {
      "name": "python"
    }
  },
  "cells": [
    {
      "cell_type": "markdown",
      "metadata": {
        "id": "view-in-github",
        "colab_type": "text"
      },
      "source": [
        "<a href=\"https://colab.research.google.com/github/hechubo/DDM-Coursework/blob/master/5004_hw_2.ipynb\" target=\"_parent\"><img src=\"https://colab.research.google.com/assets/colab-badge.svg\" alt=\"Open In Colab\"/></a>"
      ]
    },
    {
      "cell_type": "markdown",
      "source": [
        "**1.Find the first two iterations using (1) the Jacobi method and (2) the Gauss-Seidel method for the following linear system, starting from x(0) = (0, −1, 0)**"
      ],
      "metadata": {
        "id": "HjM7i6Jz7IiH"
      }
    },
    {
      "cell_type": "markdown",
      "source": [
        "\n",
        "\n",
        "可以按照以下步骤使用 Jacobi 和 Gauss-Seidel 方法求解：\n",
        "\n",
        "Jacobi 方法：\n",
        "\n",
        "\\begin{align*}\n",
        "x_1^{(k+1)} &= \\frac{1}{4}(3 - x_2^{(k)} + x_3^{(k)}), \\\\\n",
        "x_2^{(k+1)} &= \\frac{1}{3}(6 + x_1^{(k)} - x_3^{(k)}), \\\\\n",
        "x_3^{(k+1)} &= \\frac{1}{5}(4 - 2x_1^{(k)} - 2x_2^{(k)}).\n",
        "\\end{align*}\n",
        "\n",
        "从初始值 $x^{(0)} = (0, -1, 0)$ 开始迭代，计算前两次迭代结果：\n",
        "\n",
        "第一次迭代：\n",
        "\\begin{align*}\n",
        "x_1^{(1)} &= \\frac{1}{4}(3 - (-1) + 0) = 1, \\\\\n",
        "x_2^{(1)} &= \\frac{1}{3}(6 + 0 - 0) = 2, \\\\\n",
        "x_3^{(1)} &= \\frac{1}{5}(4 - 2 \\cdot 0 - 2 \\cdot (-1)) = \\frac{6}{5}.\n",
        "\\end{align*}\n",
        "\n",
        "第二次迭代：\n",
        "\\begin{align*}\n",
        "x_1^{(2)} &= \\frac{1}{4}(3 - 2 + \\frac{6}{5}) = \\frac{7}{20}, \\\\\n",
        "x_2^{(2)} &= \\frac{1}{3}(6 + 1 - \\frac{6}{5}) = \\frac{16}{15}, \\\\\n",
        "x_3^{(2)} &= \\frac{1}{5}(4 - 2 \\cdot 1 - 2 \\cdot 2) = -\\frac{2}{5}.\n",
        "\\end{align*}\n",
        "\n",
        "Gauss-Seidel 方法：\n",
        "\n",
        "\\begin{align*}\n",
        "x_1^{(k+1)} &= \\frac{1}{4}(3 - x_2^{(k)} + x_3^{(k)}), \\\\\n",
        "x_2^{(k+1)} &= \\frac{1}{3}(6 + x_1^{(k+1)} - x_3^{(k)}), \\\\\n",
        "x_3^{(k+1)} &= \\frac{1}{5}(4 - 2x_1^{(k+1)} - 2x_2^{(k+1)}).\n",
        "\\end{align*}\n",
        "\n",
        "从初始值 $x^{(0)} = (0, -1, 0)$ 开始迭代，计算前两次迭代结果：\n",
        "\n",
        "第一次迭代：\n",
        "\\begin{align*}\n",
        "x_1^{(1)} &= \\frac{1}{4}(3 - (-1) + 0) = 1, \\\\\n",
        "x_2^{(1)} &= \\frac{1}{3}(6 + 1 - 0) = \\frac{7}{3}, \\\\\n",
        "x_3^{(1)} &= \\frac{1}{5}(4 - 2 \\cdot 1 - 2 \\cdot \\frac{7}{3}) = -\\frac{6}{15}.\n",
        "\\end{align*}\n",
        "\n",
        "第二次迭代：\n",
        "\\begin{align*}\n",
        "x_1^{(2)} &= \\frac{1}{4}(3 - \\frac{7}{3} - \\frac{6}{15}) = \\frac{1}{60}, \\\\\n",
        "x_2^{(2)} &= \\frac{1}{3}(6 + \\frac{1}{60} + \\frac{6}{15}) = \\frac{121}{90}, \\\\\n",
        "x_3^{(2)} &= \\frac{1}{5}(4 - 2 \\cdot \\frac{1}{60} - 2 \\cdot \\frac{121}{90}) = \\frac{71}{450}.\n",
        "\\end{align*}"
      ],
      "metadata": {
        "id": "IdHAJWMs7fwn"
      }
    },
    {
      "cell_type": "markdown",
      "source": [
        "**2. Write codes using MATLAB (or other programming language) to solve the following linear system**"
      ],
      "metadata": {
        "id": "GDW9GGVe8edJ"
      }
    },
    {
      "cell_type": "code",
      "execution_count": 1,
      "metadata": {
        "colab": {
          "base_uri": "https://localhost:8080/"
        },
        "id": "BAm_rIJx7D1u",
        "outputId": "560939f4-2dce-4d0f-bb19-d5b2a395f618"
      },
      "outputs": [
        {
          "output_type": "stream",
          "name": "stdout",
          "text": [
            "高斯-赛德尔方法结果：\n",
            "解向量： [0 0 0 1]\n",
            "迭代次数： 1\n",
            "SOR方法结果：\n",
            "解向量： [0 0 0 1]\n",
            "迭代次数： 1\n"
          ]
        }
      ],
      "source": [
        "import numpy as np\n",
        "\n",
        "def gauss_seidel(A, b, x0, tol=1e-3, max_iter=100):\n",
        "    n = len(b)\n",
        "    x = x0.copy()\n",
        "\n",
        "    for k in range(max_iter):\n",
        "        x_old = x.copy()\n",
        "\n",
        "        for i in range(n):\n",
        "            s = np.dot(A[i, :i], x[:i]) + np.dot(A[i, i+1:], x_old[i+1:])\n",
        "            x[i] = (b[i] - s) / A[i, i]\n",
        "\n",
        "        if np.linalg.norm(x - x_old, ord=np.inf) < tol:\n",
        "            break\n",
        "\n",
        "    return x, k+1\n",
        "\n",
        "def sor(A, b, x0, omega=1.2, tol=1e-3, max_iter=100):\n",
        "    n = len(b)\n",
        "    x = x0.copy()\n",
        "\n",
        "    for k in range(max_iter):\n",
        "        x_old = x.copy()\n",
        "\n",
        "        for i in range(n):\n",
        "            s = np.dot(A[i, :i], x[:i]) + np.dot(A[i, i+1:], x_old[i+1:])\n",
        "            x[i] = (1 - omega) * x_old[i] + omega * (b[i] - s) / A[i, i]\n",
        "\n",
        "        if np.linalg.norm(x - x_old, ord=np.inf) < tol:\n",
        "            break\n",
        "\n",
        "    return x, k+1\n",
        "\n",
        "# 线性方程组的系数矩阵和常数项\n",
        "A = np.array([[4, 1, 1, -1],\n",
        "              [1, 4, -1, -1],\n",
        "              [1, -1, 3, 1],\n",
        "              [-1, -1, 1, 5]])\n",
        "b = np.array([-3, -2, 2, 5])\n",
        "\n",
        "# 初始解\n",
        "x0 = np.array([0, 0, 0, 1])\n",
        "\n",
        "# 使用高斯-赛德尔方法求解\n",
        "x_gs, iter_gs = gauss_seidel(A, b, x0)\n",
        "\n",
        "# 使用SOR方法求解\n",
        "x_sor, iter_sor = sor(A, b, x0, omega=1.2)\n",
        "\n",
        "print(\"高斯-赛德尔方法结果：\")\n",
        "print(\"解向量：\", x_gs)\n",
        "print(\"迭代次数：\", iter_gs)\n",
        "\n",
        "print(\"SOR方法结果：\")\n",
        "print(\"解向量：\", x_sor)\n",
        "print(\"迭代次数：\", iter_sor)"
      ]
    },
    {
      "cell_type": "markdown",
      "source": [
        "**3. Write a code using MATLAB (or other programming language) to compute the derivative**"
      ],
      "metadata": {
        "id": "92j5r7wz8kxP"
      }
    },
    {
      "cell_type": "code",
      "source": [
        "import numpy as np\n",
        "import math\n",
        "\n",
        "def f(x):\n",
        "    return np.sin(x) / (x**2)\n",
        "\n",
        "def central_diff(f, x, h):\n",
        "    return (f(x + h) - f(x - h)) / (2 * h)\n",
        "\n",
        "def order_of_convergence(f, x, h_values):\n",
        "    errors = []\n",
        "    for h in h_values:\n",
        "        df_approx = central_diff(f, x, h)\n",
        "        df_exact = (-2 * np.sin(x) + 2 * x * np.cos(x)) / (x**3)\n",
        "        errors.append(abs(df_approx - df_exact))\n",
        "\n",
        "    orders = [np.log2(errors[i] / errors[i+1]) for i in range(len(errors)-1)]\n",
        "    return orders\n",
        "\n",
        "x = 3\n",
        "h_values = [0.1 / 2**i for i in range(10)]\n",
        "\n",
        "df_approx = central_diff(f, x, h_values[-1])\n",
        "print(f\"在 x = {x} 处的导数近似值为: {df_approx}\")\n",
        "\n",
        "orders = order_of_convergence(f, x, h_values)\n",
        "print(\"收敛阶数:\")\n",
        "for i, order in enumerate(orders):\n",
        "    print(f\"h = {h_values[i]} 到 h = {h_values[i+1]} 的收敛阶数: {order}\")"
      ],
      "metadata": {
        "colab": {
          "base_uri": "https://localhost:8080/"
        },
        "id": "2vgUsuqZ8yDl",
        "outputId": "69c874c7-cd4c-4ae8-bc02-e074361b4ec4"
      },
      "execution_count": 2,
      "outputs": [
        {
          "output_type": "stream",
          "name": "stdout",
          "text": [
            "在 x = 3 处的导数近似值为: -0.12045250080777059\n",
            "收敛阶数:\n",
            "h = 0.1 到 h = 0.05 的收敛阶数: -0.0015206237702168098\n",
            "h = 0.05 到 h = 0.025 的收敛阶数: -0.00037961537628633854\n",
            "h = 0.025 到 h = 0.0125 的收敛阶数: -9.487012005567991e-05\n",
            "h = 0.0125 到 h = 0.00625 的收敛阶数: -2.3715423230544333e-05\n",
            "h = 0.00625 到 h = 0.003125 的收敛阶数: -5.9287242625641195e-06\n",
            "h = 0.003125 到 h = 0.0015625 的收敛阶数: -1.482172810768216e-06\n",
            "h = 0.0015625 到 h = 0.00078125 的收敛阶数: -3.705422484678769e-07\n",
            "h = 0.00078125 到 h = 0.000390625 的收敛阶数: -9.263558911318649e-08\n",
            "h = 0.000390625 到 h = 0.0001953125 的收敛阶数: -2.3160832911711305e-08\n"
          ]
        }
      ]
    },
    {
      "cell_type": "markdown",
      "source": [
        "**4. Write codes using MATLAB (or other programming language) to solve the ODE**"
      ],
      "metadata": {
        "id": "R_yCMiuT9EV0"
      }
    },
    {
      "cell_type": "code",
      "source": [
        "import numpy as np\n",
        "import matplotlib.pyplot as plt\n",
        "\n",
        "def f(t, y):\n",
        "    return (t * y - 0.5 * y**2) / t**2\n",
        "\n",
        "def forward_euler(f, t0, y0, t_end, h):\n",
        "    t = np.arange(t0, t_end + h, h)\n",
        "    y = np.zeros(t.shape)\n",
        "    y[0] = y0\n",
        "\n",
        "    for i in range(1, len(t)):\n",
        "        y[i] = y[i-1] + h * f(t[i-1], y[i-1])\n",
        "\n",
        "    return t, y\n",
        "\n",
        "def backward_euler(f, t0, y0, t_end, h):\n",
        "    t = np.arange(t0, t_end + h, h)\n",
        "    y = np.zeros(t.shape)\n",
        "    y[0] = y0\n",
        "\n",
        "    for i in range(1, len(t)):\n",
        "        y_prev = y[i-1]\n",
        "        y_curr = y_prev\n",
        "\n",
        "        for _ in range(10):  # 使用简单迭代法求解隐式方程\n",
        "            y_curr = y_prev + h * f(t[i], y_curr)\n",
        "\n",
        "        y[i] = y_curr\n",
        "\n",
        "    return t, y\n",
        "\n",
        "t0 = 1\n",
        "y0 = 4\n",
        "t_end = 3\n",
        "h = 1/128\n",
        "\n",
        "t_fe, y_fe = forward_euler(f, t0, y0, t_end, h)\n",
        "t_be, y_be = backward_euler(f, t0, y0, t_end, h)\n",
        "\n",
        "plt.figure(figsize=(8, 6))\n",
        "plt.plot(t_fe, y_fe, label='Forward Euler')\n",
        "plt.plot(t_be, y_be, label='Backward Euler')\n",
        "plt.xlabel('t')\n",
        "plt.ylabel('y')\n",
        "plt.legend()\n",
        "plt.grid(True)\n",
        "plt.show()"
      ],
      "metadata": {
        "colab": {
          "base_uri": "https://localhost:8080/",
          "height": 542
        },
        "id": "CVfyeZ5A9Eo4",
        "outputId": "bf20c01a-9871-4c46-f571-daf3989acc2c"
      },
      "execution_count": 3,
      "outputs": [
        {
          "output_type": "display_data",
          "data": {
            "text/plain": [
              "<Figure size 800x600 with 1 Axes>"
            ],
            "image/png": "[encoded data removed]"
          },
          "metadata": {}
        }
      ]
    },
    {
      "cell_type": "markdown",
      "source": [
        "**5.**"
      ],
      "metadata": {
        "id": "W9hqOsW59LJz"
      }
    },
    {
      "cell_type": "markdown",
      "source": [
        "要证明给定的数值格式在时间和空间上都是二阶精度的。可以使用泰勒级数展开来证明。\n",
        "\n",
        "对于时间方向：\n",
        "\\begin{align*}\n",
        "U_j^{n+1} &= U_j^n + \\frac{\\partial U_j^n}{\\partial t}\\Delta t + \\frac{1}{2}\\frac{\\partial^2 U_j^n}{\\partial t^2}\\Delta t^2 + O(\\Delta t^3)\\\\\n",
        "U_j^{n-1} &= U_j^n - \\frac{\\partial U_j^n}{\\partial t}\\Delta t + \\frac{1}{2}\\frac{\\partial^2 U_j^n}{\\partial t^2}\\Delta t^2 - O(\\Delta t^3)\n",
        "\\end{align*}\n",
        "\n",
        "将以上两式相减，得到：\n",
        "\\begin{equation*}\n",
        "U_j^{n+1} - U_j^{n-1} = 2\\frac{\\partial U_j^n}{\\partial t}\\Delta t + O(\\Delta t^3)\n",
        "\\end{equation*}\n",
        "\n",
        "对于空间方向：\n",
        "\\begin{align*}\n",
        "U_{j+1}^n &= U_j^n + \\frac{\\partial U_j^n}{\\partial x}\\Delta x + \\frac{1}{2}\\frac{\\partial^2 U_j^n}{\\partial x^2}\\Delta x^2 + O(\\Delta x^3)\\\\\n",
        "U_{j-1}^n &= U_j^n - \\frac{\\partial U_j^n}{\\partial x}\\Delta x + \\frac{1}{2}\\frac{\\partial^2 U_j^n}{\\partial x^2}\\Delta x^2 - O(\\Delta x^3)\n",
        "\\end{align*}\n",
        "\n",
        "将以上两式相加，得到：\n",
        "\\begin{equation*}\n",
        "U_{j+1}^n + U_{j-1}^n = 2U_j^n + \\frac{\\partial^2 U_j^n}{\\partial x^2}\\Delta x^2 + O(\\Delta x^4)\n",
        "\\end{equation*}\n",
        "\n",
        "将时间和空间的结果代入原始的数值格式：\n",
        "\\begin{align*}\n",
        "\\frac{U_j^{n+1} - U_j^{n-1}}{2\\Delta t} &= \\frac{\\partial U_j^n}{\\partial t} + O(\\Delta t^2)\\\\\n",
        "&= \\frac{\\partial^2 U_j^n}{\\partial x^2} + O(\\Delta x^2) + O(\\Delta t^2)\\\\\n",
        "&= \\frac{U_{j+1}^n - 2U_j^n + U_{j-1}^n}{\\Delta x^2} + O(\\Delta x^2) + O(\\Delta t^2)\n",
        "\\end{align*}\n",
        "\n",
        "综上所述，原始的数值格式在时间和空间上都具有二阶精度，即截断误差为 $O(\\Delta t^2)$ 和 $O(\\Delta x^2)$。"
      ],
      "metadata": {
        "id": "SJ04eI679O7T"
      }
    }
  ]
}