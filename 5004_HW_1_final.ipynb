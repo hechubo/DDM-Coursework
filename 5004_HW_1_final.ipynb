{
  "nbformat": 4,
  "nbformat_minor": 0,
  "metadata": {
    "colab": {
      "provenance": [],
      "authorship_tag": "ABX9TyN858fxhhFxzc0gopzP7Jbn",
      "include_colab_link": true
    },
    "kernelspec": {
      "name": "python3",
      "display_name": "Python 3"
    },
    "language_info": {
      "name": "python"
    }
  },
  "cells": [
    {
      "cell_type": "markdown",
      "metadata": {
        "id": "view-in-github",
        "colab_type": "text"
      },
      "source": [
        "<a href=\"https://colab.research.google.com/github/hechubo/DDM-Coursework/blob/master/5004_HW_1_final.ipynb\" target=\"_parent\"><img src=\"https://colab.research.google.com/assets/colab-badge.svg\" alt=\"Open In Colab\"/></a>"
      ]
    },
    {
      "cell_type": "markdown",
      "source": [
        "**1.1 Write down the iteration algorithm of Newton’s method, then perform 4 iterations with the starting point x0 = 1.5.**"
      ],
      "metadata": {
        "id": "au_ZkMhplijM"
      }
    },
    {
      "cell_type": "markdown",
      "source": [
        "\n",
        "\n",
        "To solve the equation $f(x) = 4x \\sin(x) - 4\\sin^2(x) - x^2 = 0$ using Newton's method, we need two main components: the original function $f(x)$ and its derivative $f'(x)$. The iteration formula for Newton's method is:\n",
        "\n",
        "$\n",
        "x_{n+1} = x_n - \\frac{f(x_n)}{f'(x_n)}\n",
        "$\n",
        "\n",
        "First, we calculate the derivative of $f(x)$:\n",
        "\n",
        "$\n",
        "f'(x) = \\frac{d}{dx}(4x \\sin(x) - 4\\sin^2(x) - x^2)\n",
        "$\n",
        "\n",
        "Using the basic rules of differentiation, we have:\n",
        "\n",
        "$\n",
        "f'(x) = 4\\sin(x) + 4x\\cos(x) - 8\\sin(x)\\cos(x) - 2x\n",
        "$\n",
        "\n",
        "$\n",
        "f'(x) = 4\\sin(x) + 4x\\cos(x) - 4(2\\sin(x)\\cos(x)) - 2x\n",
        "$\n",
        "\n",
        "Using the double angle formula $\\sin(2x) = 2\\sin(x)\\cos(x)$, we can further simplify $f'(x)$:\n",
        "\n",
        "$\n",
        "f'(x) = 4\\sin(x) + 4x\\cos(x) - 4\\sin(2x) - 2x\n",
        "$\n",
        "\n",
        "Now that we have $f(x)$ and $f'(x)$, we can write down the iteration algorithm for Newton's method:\n",
        "\n",
        "\n",
        "Choose an initial approximation $x_0$. For $n = 0, 1, 2, \\ldots$, compute the next approximation $x_{n+1}$:\n",
        "\n",
        "\n",
        "$\n",
        "x_{n+1} = x_n - \\frac{4x_n \\sin(x_n) - 4\\sin^2(x_n) - x_n^2}{4\\sin(x_n) + 4x_n\\cos(x_n) - 4\\sin(2x_n) - 2x_n}\n",
        "$\n",
        "\n",
        "This is the process of writing the iteration formula for Newton's method using LaTeX. In practical applications, you would continuously apply this iteration step until $x_{n+1}$ and $x_n$ are close enough, or $f(x_{n+1})$ is close to 0.\n",
        "\n",
        "\n",
        "\n",
        "The iteration formula remains as:\n",
        "\n",
        "$\n",
        "x_{n+1} = x_n - \\frac{f(x_n)}{f'(x_n)}\n",
        "$\n",
        "\n",
        "Iteration 1:\n",
        "\n",
        "Initial value $x_0 = 1.5$\n",
        "\n",
        "Compute $f(x_0)$ and $f'(x_0)$\n",
        "\n",
        "Compute $x_1 = x_0 - \\frac{f(x_0)}{f'(x_0)}$\n",
        "\n",
        "Obtain $x_1 = 1.7882791003152176$\n",
        "\n",
        "Iteration 2:\n",
        "\n",
        "Using the value of $x_1$\n",
        "\n",
        "Compute $f(x_1)$ and $f'(x_1)$\n",
        "\n",
        "Compute $x_2 = x_1 - \\frac{f(x_1)}{f'(x_1)}$\n",
        "\n",
        "Obtain $x_2 = 1.8457723359438059$\n",
        "\n",
        "Iteration 3:\n",
        "\n",
        "Using the value of $x_2$\n",
        "\n",
        "Compute $f(x_2)$ and $f'(x_2)$\n",
        "\n",
        "Compute $x_3 = x_2 - \\frac{f(x_2)}{f'(x_2)}$\n",
        "\n",
        "Obtain $x_3 = 1.8714005418319002$\n",
        "\n",
        "Iteration 4:\n",
        "\n",
        "Using the value of $x_3$\n",
        "\n",
        "Compute $f(x_3)$ and $f'(x_3)$\n",
        "\n",
        "Compute $x_4 = x_3 - \\frac{f(x_3)}{f'(x_3)}$\n",
        "\n",
        "Obtain $x_4 = 1.883621085787017$\n",
        "\n"
      ],
      "metadata": {
        "id": "iKfAFA-fLvE6"
      }
    },
    {
      "cell_type": "code",
      "execution_count": null,
      "metadata": {
        "colab": {
          "base_uri": "https://localhost:8080/"
        },
        "id": "v-0iecNMkItz",
        "outputId": "e36cf903-9230-43a2-d03b-bb3f60c0ea81"
      },
      "outputs": [
        {
          "output_type": "stream",
          "name": "stdout",
          "text": [
            "Iteration 1: x = 1.7882791003152176\n",
            "Iteration 2: x = 1.8457723359438059\n",
            "Iteration 3: x = 1.8714005418319002\n",
            "Iteration 4: x = 1.883621085787017\n"
          ]
        },
        {
          "output_type": "execute_result",
          "data": {
            "text/plain": [
              "1.883621085787017"
            ]
          },
          "metadata": {},
          "execution_count": 1
        }
      ],
      "source": [
        "import math\n",
        "\n",
        "# Define the function f(x)\n",
        "def f(x):\n",
        "    return 4*x*math.sin(x) - 4*math.sin(x)**2 - x**2\n",
        "\n",
        "# Define the derivative of f(x)\n",
        "def df(x):\n",
        "    return 4*math.sin(x) + 4*x*math.cos(x) - 8*math.sin(x)*math.cos(x) - 2*x\n",
        "\n",
        "# Newton's method iteration\n",
        "def newtons_method(x0, iterations):\n",
        "    x = x0\n",
        "    for i in range(iterations):\n",
        "        x = x - f(x)/df(x)\n",
        "        print(f\"Iteration {i+1}: x = {x}\")\n",
        "    return x\n",
        "\n",
        "# Perform 4 iterations with x0 = 1.5\n",
        "newtons_method(1.5, 4)"
      ]
    },
    {
      "cell_type": "markdown",
      "source": [
        "**1.2 Write codes using MATLAB to solve this equation with an accuracy of 10−5 using (i) Newton’s method and (ii) the secant method.**"
      ],
      "metadata": {
        "id": "Yz30i16ul1-i"
      }
    },
    {
      "cell_type": "markdown",
      "source": [
        "(i) Newton’s method"
      ],
      "metadata": {
        "id": "BOYsARMrl-zG"
      }
    },
    {
      "cell_type": "code",
      "source": [
        "def newtons_method_with_accuracy(x0, tol):\n",
        "    x = x0\n",
        "    while abs(f(x)) > tol:\n",
        "        x = x - f(x)/df(x)\n",
        "    return x\n",
        "\n",
        "# Solve the equation with an accuracy of 10^-5\n",
        "root_newton = newtons_method_with_accuracy(1.5, 1e-5)\n",
        "print(f\"Root found by Newton's method with accuracy 10^-5: {root_newton}\")"
      ],
      "metadata": {
        "colab": {
          "base_uri": "https://localhost:8080/"
        },
        "id": "_iGe6BxDl2T6",
        "outputId": "84ee0c0f-e406-4cea-dba0-de36971e479f"
      },
      "execution_count": null,
      "outputs": [
        {
          "output_type": "stream",
          "name": "stdout",
          "text": [
            "Root found by Newton's method with accuracy 10^-5: 1.8940280587800526\n"
          ]
        }
      ]
    },
    {
      "cell_type": "markdown",
      "source": [
        "**(ii) the secant method**"
      ],
      "metadata": {
        "id": "TyoHneZMl_n9"
      }
    },
    {
      "cell_type": "code",
      "source": [
        "def secant_method(x0, x1, tol):\n",
        "    f_x0 = f(x0)\n",
        "    f_x1 = f(x1)\n",
        "    while abs(f_x1) > tol:\n",
        "        x_temp = x1 - f_x1*(x1 - x0)/(f_x1 - f_x0)\n",
        "        x0, x1 = x1, x_temp\n",
        "        f_x0, f_x1 = f_x1, f(x1)\n",
        "    return x1\n",
        "\n",
        "# Solve the equation with an accuracy of 10^-5\n",
        "root_secant = secant_method(1.5, 1.6, 1e-5)\n",
        "print(f\"Root found by secant method with accuracy 10^-5: {root_secant}\")"
      ],
      "metadata": {
        "colab": {
          "base_uri": "https://localhost:8080/"
        },
        "id": "T3IiSoFyl_-A",
        "outputId": "5546f6c4-564a-49a6-d07e-0bf3d2cf4dd8"
      },
      "execution_count": null,
      "outputs": [
        {
          "output_type": "stream",
          "name": "stdout",
          "text": [
            "Root found by secant method with accuracy 10^-5: 1.894162258488667\n"
          ]
        }
      ]
    },
    {
      "cell_type": "markdown",
      "source": [
        "**2 Write down the iteration algorithm of Newton’s method，Write a code using MATLAB to solve it using Newton’s method. Use starting values x(0) = −1 and x(0) = 2. Perform 5 iterations.**"
      ],
      "metadata": {
        "id": "4M726-4WmZrh"
      }
    },
    {
      "cell_type": "markdown",
      "source": [
        "The iterative algorithm of the Newton's method can be translated into English as follows:\n",
        "For the nonlinear system of equations:\n",
        "\n",
        "\\begin{align*}\n",
        "f_1(x_1,x_2) &= 1 + x_2 - \\frac{4x_2^2}{1-4x_2^2} + e^{x_1}\\cos(2x_2) = 0 \\\\\n",
        "f_2(x_1,x_2) &= 2 + e^{x_1}\\sin(2x_2) = 0\n",
        "\\end{align*}\n",
        "\n",
        "The Newton's method iterative algorithm is:\n",
        "\n",
        "\\begin{align*}\n",
        "x_1^{(k+1)} &= x_1^{(k)} - \\frac{f_1(x_1^{(k)},x_2^{(k)})}{f'_1(x_1^{(k)},x_2^{(k)})} \\\\\n",
        "&= x_1^{(k)} - \\frac{1 + x_2^{(k)} - \\frac{4(x_2^{(k)})^2}{1-4(x_2^{(k)})^2} + e^{x_1^{(k)}}\\cos(2x_2^{(k)})}{1 + 2e^{x_1^{(k)}}\\sin(2x_2^{(k)})} \\\\\n",
        "x_2^{(k+1)} &= x_2^{(k)} - \\frac{f_2(x_1^{(k)},x_2^{(k)})}{f'_2(x_1^{(k)},x_2^{(k)})} \\\\\n",
        "&= x_2^{(k)} - \\frac{2 + e^{x_1^{(k)}}\\sin(2x_2^{(k)})}{4x_1^{(k)} + 2e^{x_1^{(k)}}\\cos(2x_2^{(k)})}\n",
        "\\end{align*}\n",
        "\n",
        "Here, $k$ represents the iteration number, and $x_1^{(k)}, x_2^{(k)}$ are the approximate values of the solution obtained in the k-th iteration. By repeating the above iterative formula, we can obtain the numerical solution of the nonlinear system of equations."
      ],
      "metadata": {
        "id": "287hKUuNOoST"
      }
    },
    {
      "cell_type": "code",
      "source": [
        "import math\n",
        "import numpy as np\n",
        "\n",
        "def f(x):\n",
        "    x1, x2 = x[0], x[1]\n",
        "    f1 = 1 + x1 - 4*x2**2 + math.exp(x1)*math.cos(2*x2)\n",
        "    f2 = 4*x1*x2 + math.exp(x1)*math.sin(2*x2)\n",
        "    return np.array([f1, f2])\n",
        "\n",
        "def jacobian(x):\n",
        "    x1, x2 = x[0], x[1]\n",
        "    j11 = math.exp(x1)*math.cos(2*x2)\n",
        "    j12 = 1 - 8*x2\n",
        "    j21 = 4*x2 + math.exp(x1)*math.sin(2*x2)\n",
        "    j22 = 4*x1 + 2*math.exp(x1)*math.cos(2*x2)\n",
        "    return np.array([[j11, j12], [j21, j22]])\n",
        "\n",
        "def newton_method(x0, tol, max_iter):\n",
        "    x = x0\n",
        "    for i in range(max_iter):\n",
        "        dx = np.linalg.solve(jacobian(x), -f(x))\n",
        "        x = x + dx\n",
        "        print(\"Iteration\", i+1, \":\", x)\n",
        "        if np.linalg.norm(dx)/np.linalg.norm(x) < tol:\n",
        "            return x\n",
        "    return x\n",
        "\n",
        "x0 = np.array([-1, 2])\n",
        "tol = 1e-5\n",
        "max_iter = 5\n",
        "\n",
        "root = newton_method(x0, tol, max_iter)\n",
        "print(\"The root of the system of equations using Newton's method is:\", root)"
      ],
      "metadata": {
        "colab": {
          "base_uri": "https://localhost:8080/"
        },
        "id": "0FcBUM02Ii17",
        "outputId": "60d07b5f-1790-4ad0-eb72-6fc45e3fef90"
      },
      "execution_count": 10,
      "outputs": [
        {
          "output_type": "stream",
          "name": "stdout",
          "text": [
            "Iteration 1 : [-0.5602795   0.91025346]\n",
            "Iteration 2 : [-0.49551246  0.42875532]\n",
            "Iteration 3 : [-0.25785153  0.53680206]\n",
            "Iteration 4 : [-0.30411665  0.51889995]\n",
            "Iteration 5 : [-0.30605263  0.51667998]\n",
            "The root of the system of equations using Newton's method is: [-0.30605263  0.51667998]\n"
          ]
        }
      ]
    },
    {
      "cell_type": "markdown",
      "source": [
        "**3. (1) Find the Lagrange interpolating polynomial for these data**"
      ],
      "metadata": {
        "id": "swM1iMkImyLk"
      }
    },
    {
      "cell_type": "markdown",
      "source": [
        "Lagrange Interpolation Polynomial：\n",
        "\n",
        "For $n+1$ data points $(x_0, y_0), (x_1, y_1), \\ldots, (x_n, y_n)$, the Lagrange interpolation polynomial $L(x)$ is given by:\n",
        "\n",
        "$\n",
        "L(x) = \\sum_{i=0}^{n} y_i \\prod_{\\substack{j=0 \\\\ j \\neq i}}^{n} \\frac{x - x_j}{x_is - x_j}\n",
        "$\n",
        "\n",
        "Problem Data Points\n",
        "\n",
        "Given data points are:\n",
        "\n",
        "$\n",
        "(x_0, y_0) = (-1, 3), \\quad (x_1, y_1) = (1, 4), \\quad (x_2, y_2) = (2, 2)\n",
        "$\n",
        "\n",
        "Calculating the Interpolation Polynomial Manually\n",
        "\n",
        "For the given data points, the Lagrange interpolation polynomial $L(x)$ is:\n",
        "\n",
        "$\n",
        "L(x) = 3 \\cdot \\frac{(x - 1)(x - 2)}{(-1 - 1)(-1 - 2)} + 4 \\cdot \\frac{(x + 1)(x - 2)}{(1 + 1)(1 - 2)} + 2 \\cdot \\frac{(x + 1)(x - 1)}{(2 + 1)(2 - 1)}\n",
        "$\n",
        "\n",
        "Plug in $y(-1) = 3$, $y(1) = 4$, and $y(2) = 2$ into the formula:\n",
        "\n",
        "$\n",
        "L(x) = 3 \\cdot \\frac{(x - 1)(x - 2)}{6} + 4 \\cdot \\frac{(x + 1)(x - 2)}{-2} + 2 \\cdot \\frac{(x + 1)(x - 1)}{3}\n",
        "$\n",
        "\n",
        "Simplify the expression to get the explicit form of $L(x)$.\n",
        "\n",
        "To find the estimated value of $f(0)$, substitute $x = 0$ into $L(x)$:\n",
        "\n",
        "$\n",
        "L(0) = 3 \\cdot \\frac{(0 - 1)(0 - 2)}{6} + 4 \\cdot \\frac{(0 + 1)(0 - 2)}{-2} + 2 \\cdot \\frac{(0 + 1)(0 - 1)}{3}\n",
        "$"
      ],
      "metadata": {
        "id": "c-tpO2DFniE6"
      }
    },
    {
      "cell_type": "code",
      "source": [
        "import numpy as np\n",
        "\n",
        "# 定义Lagrange插值多项式\n",
        "def lagrange_interpolation(x, y, x_target):\n",
        "    def L(k, xk):\n",
        "        term = 1\n",
        "        for xi in x:\n",
        "            if xi != xk:\n",
        "                term *= (x_target - xi) / (xk - xi)\n",
        "        return term\n",
        "\n",
        "    interpolated_value = 0\n",
        "    for k, xk in enumerate(x):\n",
        "        interpolated_value += y[k] * L(k, xk)\n",
        "\n",
        "    return interpolated_value\n",
        "\n",
        "# 给定数据点\n",
        "x_points = np.array([-1, 1, 2])\n",
        "y_points = np.array([3, 4, 2])\n",
        "\n",
        "# 计算 f(0)\n",
        "f_of_0 = lagrange_interpolation(x_points, y_points, 0)\n",
        "print(f\"The approximation of f(0) using the interpolating polynomial is: {f_of_0}\")"
      ],
      "metadata": {
        "colab": {
          "base_uri": "https://localhost:8080/"
        },
        "id": "-k1KMeUPpPW5",
        "outputId": "978a9c73-e6ae-46ce-e79f-9d7e0a2abfd6"
      },
      "execution_count": null,
      "outputs": [
        {
          "output_type": "stream",
          "name": "stdout",
          "text": [
            "The approximation of f(0) using the interpolating polynomial is: 4.333333333333333\n"
          ]
        }
      ]
    }
  ]
}