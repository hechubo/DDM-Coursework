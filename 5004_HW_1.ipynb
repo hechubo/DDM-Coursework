{
  "nbformat": 4,
  "nbformat_minor": 0,
  "metadata": {
    "colab": {
      "provenance": [],
      "authorship_tag": "ABX9TyN7SLXIH2g5cGGd5B+TVQmh",
      "include_colab_link": true
    },
    "kernelspec": {
      "name": "python3",
      "display_name": "Python 3"
    },
    "language_info": {
      "name": "python"
    }
  },
  "cells": [
    {
      "cell_type": "markdown",
      "metadata": {
        "id": "view-in-github",
        "colab_type": "text"
      },
      "source": [
        "<a href=\"https://colab.research.google.com/github/hechubo/DDM-Coursework/blob/master/5004_HW_1.ipynb\" target=\"_parent\"><img src=\"https://colab.research.google.com/assets/colab-badge.svg\" alt=\"Open In Colab\"/></a>"
      ]
    },
    {
      "cell_type": "markdown",
      "source": [
        "**1.1 Write down the iteration algorithm of Newton’s method, then perform 4 iterations with the starting point x0 = 1.5.**"
      ],
      "metadata": {
        "id": "au_ZkMhplijM"
      }
    },
    {
      "cell_type": "code",
      "execution_count": 1,
      "metadata": {
        "colab": {
          "base_uri": "https://localhost:8080/"
        },
        "id": "v-0iecNMkItz",
        "outputId": "e36cf903-9230-43a2-d03b-bb3f60c0ea81"
      },
      "outputs": [
        {
          "output_type": "stream",
          "name": "stdout",
          "text": [
            "Iteration 1: x = 1.7882791003152176\n",
            "Iteration 2: x = 1.8457723359438059\n",
            "Iteration 3: x = 1.8714005418319002\n",
            "Iteration 4: x = 1.883621085787017\n"
          ]
        },
        {
          "output_type": "execute_result",
          "data": {
            "text/plain": [
              "1.883621085787017"
            ]
          },
          "metadata": {},
          "execution_count": 1
        }
      ],
      "source": [
        "import math\n",
        "\n",
        "# Define the function f(x)\n",
        "def f(x):\n",
        "    return 4*x*math.sin(x) - 4*math.sin(x)**2 - x**2\n",
        "\n",
        "# Define the derivative of f(x)\n",
        "def df(x):\n",
        "    return 4*math.sin(x) + 4*x*math.cos(x) - 8*math.sin(x)*math.cos(x) - 2*x\n",
        "\n",
        "# Newton's method iteration\n",
        "def newtons_method(x0, iterations):\n",
        "    x = x0\n",
        "    for i in range(iterations):\n",
        "        x = x - f(x)/df(x)\n",
        "        print(f\"Iteration {i+1}: x = {x}\")\n",
        "    return x\n",
        "\n",
        "# Perform 4 iterations with x0 = 1.5\n",
        "newtons_method(1.5, 4)"
      ]
    },
    {
      "cell_type": "markdown",
      "source": [
        "**1.2 Write codes using MATLAB to solve this equation with an accuracy of 10−5 using (i) Newton’s method and (ii) the secant method.**"
      ],
      "metadata": {
        "id": "Yz30i16ul1-i"
      }
    },
    {
      "cell_type": "markdown",
      "source": [
        "(i) Newton’s method"
      ],
      "metadata": {
        "id": "BOYsARMrl-zG"
      }
    },
    {
      "cell_type": "code",
      "source": [
        "def newtons_method_with_accuracy(x0, tol):\n",
        "    x = x0\n",
        "    while abs(f(x)) > tol:\n",
        "        x = x - f(x)/df(x)\n",
        "    return x\n",
        "\n",
        "# Solve the equation with an accuracy of 10^-5\n",
        "root_newton = newtons_method_with_accuracy(1.5, 1e-5)\n",
        "print(f\"Root found by Newton's method with accuracy 10^-5: {root_newton}\")"
      ],
      "metadata": {
        "colab": {
          "base_uri": "https://localhost:8080/"
        },
        "id": "_iGe6BxDl2T6",
        "outputId": "84ee0c0f-e406-4cea-dba0-de36971e479f"
      },
      "execution_count": 4,
      "outputs": [
        {
          "output_type": "stream",
          "name": "stdout",
          "text": [
            "Root found by Newton's method with accuracy 10^-5: 1.8940280587800526\n"
          ]
        }
      ]
    },
    {
      "cell_type": "markdown",
      "source": [
        "**(ii) the secant method**"
      ],
      "metadata": {
        "id": "TyoHneZMl_n9"
      }
    },
    {
      "cell_type": "code",
      "source": [
        "def secant_method(x0, x1, tol):\n",
        "    f_x0 = f(x0)\n",
        "    f_x1 = f(x1)\n",
        "    while abs(f_x1) > tol:\n",
        "        x_temp = x1 - f_x1*(x1 - x0)/(f_x1 - f_x0)\n",
        "        x0, x1 = x1, x_temp\n",
        "        f_x0, f_x1 = f_x1, f(x1)\n",
        "    return x1\n",
        "\n",
        "# Solve the equation with an accuracy of 10^-5\n",
        "root_secant = secant_method(1.5, 1.6, 1e-5)\n",
        "print(f\"Root found by secant method with accuracy 10^-5: {root_secant}\")"
      ],
      "metadata": {
        "colab": {
          "base_uri": "https://localhost:8080/"
        },
        "id": "T3IiSoFyl_-A",
        "outputId": "5546f6c4-564a-49a6-d07e-0bf3d2cf4dd8"
      },
      "execution_count": 3,
      "outputs": [
        {
          "output_type": "stream",
          "name": "stdout",
          "text": [
            "Root found by secant method with accuracy 10^-5: 1.894162258488667\n"
          ]
        }
      ]
    },
    {
      "cell_type": "markdown",
      "source": [
        "**2 Write down the iteration algorithm of Newton’s method，Write a code using MATLAB to solve it using Newton’s method. Use starting values x(0) = −1 and x(0) = 2. Perform 5 iterations.**"
      ],
      "metadata": {
        "id": "4M726-4WmZrh"
      }
    },
    {
      "cell_type": "code",
      "source": [
        "import numpy as np\n",
        "\n",
        "# 定义方程组\n",
        "def F(x):\n",
        "    x1, x2 = x\n",
        "    return np.array([\n",
        "        1 + x2 - 4*x2**2,\n",
        "        4*x1*x2 + np.exp(x1) * np.sin(2*x2) - 2 + np.exp(x1) * np.cos(2*x2)\n",
        "    ])\n",
        "\n",
        "# 定义Jacobian矩阵\n",
        "def J(x):\n",
        "    x1, x2 = x\n",
        "    return np.array([\n",
        "        [0, 1 - 8*x2],\n",
        "        [4*x2 + np.exp(x1) * np.sin(2*x2), 4*x1 + 2*np.exp(x1) * np.cos(2*x2) - 2*np.exp(x1) * np.sin(2*x2)]\n",
        "    ])\n",
        "\n",
        "# Newton方法\n",
        "def newton_method(F, J, x0, iterations):\n",
        "    x = x0\n",
        "    for i in range(iterations):\n",
        "        delta = np.linalg.solve(J(x), -F(x))\n",
        "        x = x + delta\n",
        "        print(f\"Iteration {i+1}: x = {x}\")\n",
        "    return x\n",
        "\n",
        "# 初始值\n",
        "x0 = np.array([-1, 2])\n",
        "\n",
        "# 执行5次迭代\n",
        "newton_method(F, J, x0, 5)"
      ],
      "metadata": {
        "colab": {
          "base_uri": "https://localhost:8080/"
        },
        "id": "0AfOynOZmcGZ",
        "outputId": "cb665efb-4d4b-4c38-d539-477f651a9e76"
      },
      "execution_count": 5,
      "outputs": [
        {
          "output_type": "stream",
          "name": "stdout",
          "text": [
            "Iteration 1: x = [-0.0781705   1.13333333]\n",
            "Iteration 2: x = [0.14128681 0.76088154]\n",
            "Iteration 3: x = [0.18567728 0.65180436]\n",
            "Iteration 4: x = [0.19258643 0.6405119 ]\n",
            "Iteration 5: x = [0.19210933 0.64038822]\n"
          ]
        },
        {
          "output_type": "execute_result",
          "data": {
            "text/plain": [
              "array([0.19210933, 0.64038822])"
            ]
          },
          "metadata": {},
          "execution_count": 5
        }
      ]
    },
    {
      "cell_type": "markdown",
      "source": [
        "**3. (1) Find the Lagrange interpolating polynomial for these data**"
      ],
      "metadata": {
        "id": "swM1iMkImyLk"
      }
    },
    {
      "cell_type": "markdown",
      "source": [
        "Lagrange Interpolation Polynomial：\n",
        "\n",
        "For $n+1$ data points $(x_0, y_0), (x_1, y_1), \\ldots, (x_n, y_n)$, the Lagrange interpolation polynomial $L(x)$ is given by:\n",
        "\n",
        "$\n",
        "L(x) = \\sum_{i=0}^{n} y_i \\prod_{\\substack{j=0 \\\\ j \\neq i}}^{n} \\frac{x - x_j}{x_is - x_j}\n",
        "$\n",
        "\n",
        "Problem Data Points\n",
        "\n",
        "Given data points are:\n",
        "\n",
        "$\n",
        "(x_0, y_0) = (-1, 3), \\quad (x_1, y_1) = (1, 4), \\quad (x_2, y_2) = (2, 2)\n",
        "$\n",
        "\n",
        "Calculating the Interpolation Polynomial Manually\n",
        "\n",
        "For the given data points, the Lagrange interpolation polynomial $L(x)$ is:\n",
        "\n",
        "$\n",
        "L(x) = 3 \\cdot \\frac{(x - 1)(x - 2)}{(-1 - 1)(-1 - 2)} + 4 \\cdot \\frac{(x + 1)(x - 2)}{(1 + 1)(1 - 2)} + 2 \\cdot \\frac{(x + 1)(x - 1)}{(2 + 1)(2 - 1)}\n",
        "$\n",
        "\n",
        "Plug in $y(-1) = 3$, $y(1) = 4$, and $y(2) = 2$ into the formula:\n",
        "\n",
        "$\n",
        "L(x) = 3 \\cdot \\frac{(x - 1)(x - 2)}{6} + 4 \\cdot \\frac{(x + 1)(x - 2)}{-2} + 2 \\cdot \\frac{(x + 1)(x - 1)}{3}\n",
        "$\n",
        "\n",
        "Simplify the expression to get the explicit form of $L(x)$.\n",
        "\n",
        "To find the estimated value of $f(0)$, substitute $x = 0$ into $L(x)$:\n",
        "\n",
        "$\n",
        "L(0) = 3 \\cdot \\frac{(0 - 1)(0 - 2)}{6} + 4 \\cdot \\frac{(0 + 1)(0 - 2)}{-2} + 2 \\cdot \\frac{(0 + 1)(0 - 1)}{3}\n",
        "$"
      ],
      "metadata": {
        "id": "c-tpO2DFniE6"
      }
    },
    {
      "cell_type": "code",
      "source": [
        "import numpy as np\n",
        "\n",
        "# 定义Lagrange插值多项式\n",
        "def lagrange_interpolation(x, y, x_target):\n",
        "    def L(k, xk):\n",
        "        term = 1\n",
        "        for xi in x:\n",
        "            if xi != xk:\n",
        "                term *= (x_target - xi) / (xk - xi)\n",
        "        return term\n",
        "\n",
        "    interpolated_value = 0\n",
        "    for k, xk in enumerate(x):\n",
        "        interpolated_value += y[k] * L(k, xk)\n",
        "\n",
        "    return interpolated_value\n",
        "\n",
        "# 给定数据点\n",
        "x_points = np.array([-1, 1, 2])\n",
        "y_points = np.array([3, 4, 2])\n",
        "\n",
        "# 计算 f(0)\n",
        "f_of_0 = lagrange_interpolation(x_points, y_points, 0)\n",
        "print(f\"The approximation of f(0) using the interpolating polynomial is: {f_of_0}\")"
      ],
      "metadata": {
        "colab": {
          "base_uri": "https://localhost:8080/"
        },
        "id": "-k1KMeUPpPW5",
        "outputId": "978a9c73-e6ae-46ce-e79f-9d7e0a2abfd6"
      },
      "execution_count": 6,
      "outputs": [
        {
          "output_type": "stream",
          "name": "stdout",
          "text": [
            "The approximation of f(0) using the interpolating polynomial is: 4.333333333333333\n"
          ]
        }
      ]
    }
  ]
}